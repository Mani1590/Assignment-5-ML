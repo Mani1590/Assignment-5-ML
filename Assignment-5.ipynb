{
 "cells": [
  {
   "cell_type": "code",
   "execution_count": null,
   "id": "2f41a943",
   "metadata": {},
   "outputs": [],
   "source": [
    "import numpy as np\n",
    "import matplotlib.pyplot as plt\n",
    "from sklearn.datasets import load_iris\n",
    "from sklearn.model_selection import train_test_split\n",
    "from sklearn.neighbors import KNeighborsClassifier\n",
    "from sklearn.metrics import accuracy_score, confusion_matrix\n",
    "\n",
    "iris = load_iris()\n",
    "X = iris.data\n",
    "y = iris.target\n",
    "\n",
    "X_train, X_test, y_train, y_test = train_test_split(X, y, test_size=0.2, random_state=42)\n",
    "\n",
    "def evaluate_knn_model(k_value, X_train, y_train, X_test, y_test):\n",
    "    knn_classifier = KNeighborsClassifier(n_neighbors=k_value)\n",
    "    knn_classifier.fit(X_train, y_train)\n",
    "    y_pred = knn_classifier.predict(X_test)\n",
    "    \n",
    "    accuracy = accuracy_score(y_test, y_pred)\n",
    "    confusion_mat = confusion_matrix(y_test, y_pred)\n",
    "    \n",
    "    return accuracy, confusion_mat\n",
    "\n",
    "k_values = range(1, 21)  \n",
    "accuracies = []\n",
    "\n",
    "for k in k_values:\n",
    "    accuracy, _ = evaluate_knn_model(k, X_train, y_train, X_test, y_test)\n",
    "    accuracies.append(accuracy)\n",
    "\n",
    "\n",
    "plt.plot(k_values, accuracies, marker='o')\n",
    "plt.title('K vs Accuracy for K-NN Classifier')\n",
    "plt.xlabel('K (Number of Neighbors)')\n",
    "plt.ylabel('Accuracy')\n",
    "plt.grid(True)\n",
    "plt.show()\n",
    "\n",
    "max_accuracy_k = k_values[np.argmax(accuracies)]\n",
    "print(f\"Maximum Accuracy is achieved at K = {max_accuracy_k}\")\n",
    "\n",
    "optimal_accuracy, optimal_confusion_mat = evaluate_knn_model(max_accuracy_k, X_train, y_train, X_test, y_test)\n",
    "print(f\"\\nAccuracy with K = {max_accuracy_k}: {optimal_accuracy}\")\n",
    "print(\"\\nConfusion Matrix:\")\n",
    "print(optimal_confusion_mat)"
   ]
  }
 ],
 "metadata": {
  "kernelspec": {
   "display_name": "Python 3 (ipykernel)",
   "language": "python",
   "name": "python3"
  },
  "language_info": {
   "codemirror_mode": {
    "name": "ipython",
    "version": 3
   },
   "file_extension": ".py",
   "mimetype": "text/x-python",
   "name": "python",
   "nbconvert_exporter": "python",
   "pygments_lexer": "ipython3",
   "version": "3.11.5"
  }
 },
 "nbformat": 4,
 "nbformat_minor": 5
}
